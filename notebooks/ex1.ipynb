{
 "cells": [
  {
   "cell_type": "code",
   "execution_count": 1,
   "metadata": {
    "collapsed": true
   },
   "outputs": [],
   "source": [
    "# preamble imports\n",
    "import pandas as pd\n",
    "import numpy as np\n",
    "np.set_printoptions(precision=8)\n",
    "import seaborn\n",
    "from matplotlib import pyplot as plt\n",
    "import statistics"
   ]
  },
  {
   "cell_type": "markdown",
   "source": [
    "# Assignment 1 - Descriptive Statistics\n",
    "\n",
    "#### Patrick Pfenning\n",
    "#### 01/11/23\n",
    "\n",
    "Basic Python\n",
    "---"
   ],
   "metadata": {
    "collapsed": false
   }
  },
  {
   "cell_type": "code",
   "execution_count": 2,
   "outputs": [
    {
     "data": {
      "text/plain": "3"
     },
     "execution_count": 2,
     "metadata": {},
     "output_type": "execute_result"
    }
   ],
   "source": [
    "\"\"\"Using the statistics module\"\"\"\n",
    "# Set data\n",
    "data = [1, 2, 2, 3, 3, 3, 4, 4, 4, 4]\n",
    "# Find mean\n",
    "statistics.mean(data)"
   ],
   "metadata": {
    "collapsed": false
   }
  },
  {
   "cell_type": "code",
   "execution_count": 3,
   "outputs": [
    {
     "data": {
      "text/plain": "3.0"
     },
     "execution_count": 3,
     "metadata": {},
     "output_type": "execute_result"
    }
   ],
   "source": [
    "# Find median\n",
    "statistics.median(data)"
   ],
   "metadata": {
    "collapsed": false
   }
  },
  {
   "cell_type": "code",
   "execution_count": 4,
   "outputs": [
    {
     "data": {
      "text/plain": "4"
     },
     "execution_count": 4,
     "metadata": {},
     "output_type": "execute_result"
    }
   ],
   "source": [
    "# Find mode\n",
    "statistics.mode(data)"
   ],
   "metadata": {
    "collapsed": false
   }
  },
  {
   "cell_type": "code",
   "execution_count": 5,
   "outputs": [
    {
     "data": {
      "text/plain": "DescribeResults(mean=3, median=3.0, mode=4, variance=1.1111111111111112, stdev=1.0540925533894598, minmax=(1, 4), sum=30)"
     },
     "execution_count": 5,
     "metadata": {},
     "output_type": "execute_result"
    }
   ],
   "source": [
    "# Summarize data\n",
    "from dataclasses import dataclass, field\n",
    "\n",
    "\"\"\"Python 3.10 has no describe function, so I made my own class to do the same.\"\"\"\n",
    "\n",
    "@dataclass\n",
    "class DescribeResults:\n",
    "    \"\"\"Class for describing data\"\"\"\n",
    "    data: list = field(repr=False, default_factory=list)\n",
    "\n",
    "    mean: float = field(init=False)\n",
    "    median: float = field(init=False)\n",
    "    mode: float = field(init=False)\n",
    "    variance: float = field(init=False)\n",
    "    stdev: float = field(init=False)\n",
    "    minmax: tuple = field(init=False)\n",
    "    sum: float = field(init=False)\n",
    "\n",
    "    def __post_init__(self):\n",
    "        self.mean = statistics.mean(self.data)\n",
    "        self.median = statistics.median(self.data)\n",
    "        self.mode = statistics.mode(self.data)\n",
    "        self.variance = statistics.variance(self.data)\n",
    "        self.stdev = statistics.stdev(self.data)\n",
    "        self.minmax = (min(data), max(data))\n",
    "        self.sum = sum(data)\n",
    "\n",
    "DescribeResults(data)"
   ],
   "metadata": {
    "collapsed": false
   }
  },
  {
   "cell_type": "code",
   "execution_count": 6,
   "outputs": [
    {
     "data": {
      "text/plain": "3.0"
     },
     "execution_count": 6,
     "metadata": {},
     "output_type": "execute_result"
    }
   ],
   "source": [
    "\"\"\"Using the numpy module\"\"\"\n",
    "# mean\n",
    "np.mean(data)"
   ],
   "metadata": {
    "collapsed": false
   }
  },
  {
   "cell_type": "code",
   "execution_count": 7,
   "outputs": [
    {
     "data": {
      "text/plain": "3.0"
     },
     "execution_count": 7,
     "metadata": {},
     "output_type": "execute_result"
    }
   ],
   "source": [
    "# median\n",
    "np.median(data)"
   ],
   "metadata": {
    "collapsed": false
   }
  },
  {
   "cell_type": "code",
   "execution_count": 8,
   "outputs": [
    {
     "data": {
      "text/plain": "1.0"
     },
     "execution_count": 8,
     "metadata": {},
     "output_type": "execute_result"
    }
   ],
   "source": [
    "# std. deviation\n",
    "np.std(data)"
   ],
   "metadata": {
    "collapsed": false
   }
  },
  {
   "cell_type": "markdown",
   "source": [
    "Descriptive Stats\n",
    "---"
   ],
   "metadata": {
    "collapsed": false
   }
  },
  {
   "cell_type": "code",
   "execution_count": 15,
   "outputs": [
    {
     "data": {
      "text/plain": "           class  alcohol_percentage  malic_acid   ash  alcalinity  magnesium  \\\nunique_id                                                                       \n593            1               14.23        1.71  2.43        15.6        127   \n617            1               13.20        1.78  2.14        11.2        100   \n782            1               13.16        2.36  2.67        18.6        101   \n990            1               14.37        1.95  2.50        16.8        113   \n822            1               13.24        2.59  2.87        21.0        118   \n\n           phenols  flavanoids  nonflavanoids  proanthocyanins  color   hue  \\\nunique_id                                                                     \n593           2.80        3.06           0.28             2.29   5.64  1.04   \n617           2.65        2.76           0.26             1.28   4.38  1.05   \n782           2.80        3.24           0.30             2.81   5.68  1.03   \n990           3.85        3.49           0.24             2.18   7.80  0.86   \n822           2.80        2.69           0.39             1.82   4.32  1.04   \n\n           price_usd  \nunique_id             \n593             1065  \n617             1050  \n782             1185  \n990             1480  \n822              735  ",
      "text/html": "<div>\n<style scoped>\n    .dataframe tbody tr th:only-of-type {\n        vertical-align: middle;\n    }\n\n    .dataframe tbody tr th {\n        vertical-align: top;\n    }\n\n    .dataframe thead th {\n        text-align: right;\n    }\n</style>\n<table border=\"1\" class=\"dataframe\">\n  <thead>\n    <tr style=\"text-align: right;\">\n      <th></th>\n      <th>class</th>\n      <th>alcohol_percentage</th>\n      <th>malic_acid</th>\n      <th>ash</th>\n      <th>alcalinity</th>\n      <th>magnesium</th>\n      <th>phenols</th>\n      <th>flavanoids</th>\n      <th>nonflavanoids</th>\n      <th>proanthocyanins</th>\n      <th>color</th>\n      <th>hue</th>\n      <th>price_usd</th>\n    </tr>\n    <tr>\n      <th>unique_id</th>\n      <th></th>\n      <th></th>\n      <th></th>\n      <th></th>\n      <th></th>\n      <th></th>\n      <th></th>\n      <th></th>\n      <th></th>\n      <th></th>\n      <th></th>\n      <th></th>\n      <th></th>\n    </tr>\n  </thead>\n  <tbody>\n    <tr>\n      <th>593</th>\n      <td>1</td>\n      <td>14.23</td>\n      <td>1.71</td>\n      <td>2.43</td>\n      <td>15.6</td>\n      <td>127</td>\n      <td>2.80</td>\n      <td>3.06</td>\n      <td>0.28</td>\n      <td>2.29</td>\n      <td>5.64</td>\n      <td>1.04</td>\n      <td>1065</td>\n    </tr>\n    <tr>\n      <th>617</th>\n      <td>1</td>\n      <td>13.20</td>\n      <td>1.78</td>\n      <td>2.14</td>\n      <td>11.2</td>\n      <td>100</td>\n      <td>2.65</td>\n      <td>2.76</td>\n      <td>0.26</td>\n      <td>1.28</td>\n      <td>4.38</td>\n      <td>1.05</td>\n      <td>1050</td>\n    </tr>\n    <tr>\n      <th>782</th>\n      <td>1</td>\n      <td>13.16</td>\n      <td>2.36</td>\n      <td>2.67</td>\n      <td>18.6</td>\n      <td>101</td>\n      <td>2.80</td>\n      <td>3.24</td>\n      <td>0.30</td>\n      <td>2.81</td>\n      <td>5.68</td>\n      <td>1.03</td>\n      <td>1185</td>\n    </tr>\n    <tr>\n      <th>990</th>\n      <td>1</td>\n      <td>14.37</td>\n      <td>1.95</td>\n      <td>2.50</td>\n      <td>16.8</td>\n      <td>113</td>\n      <td>3.85</td>\n      <td>3.49</td>\n      <td>0.24</td>\n      <td>2.18</td>\n      <td>7.80</td>\n      <td>0.86</td>\n      <td>1480</td>\n    </tr>\n    <tr>\n      <th>822</th>\n      <td>1</td>\n      <td>13.24</td>\n      <td>2.59</td>\n      <td>2.87</td>\n      <td>21.0</td>\n      <td>118</td>\n      <td>2.80</td>\n      <td>2.69</td>\n      <td>0.39</td>\n      <td>1.82</td>\n      <td>4.32</td>\n      <td>1.04</td>\n      <td>735</td>\n    </tr>\n  </tbody>\n</table>\n</div>"
     },
     "execution_count": 15,
     "metadata": {},
     "output_type": "execute_result"
    }
   ],
   "source": [
    "# get data\n",
    "df = pd.read_csv('../data/wine.csv').set_index('unique_id', drop=True)\n",
    "df.head()"
   ],
   "metadata": {
    "collapsed": false
   }
  },
  {
   "cell_type": "code",
   "execution_count": 13,
   "outputs": [
    {
     "data": {
      "text/plain": "array([1, 2, 3], dtype=int64)"
     },
     "execution_count": 13,
     "metadata": {},
     "output_type": "execute_result"
    }
   ],
   "source": [],
   "metadata": {
    "collapsed": false
   }
  }
 ],
 "metadata": {
  "kernelspec": {
   "display_name": "Python 3",
   "language": "python",
   "name": "python3"
  },
  "language_info": {
   "codemirror_mode": {
    "name": "ipython",
    "version": 2
   },
   "file_extension": ".py",
   "mimetype": "text/x-python",
   "name": "python",
   "nbconvert_exporter": "python",
   "pygments_lexer": "ipython2",
   "version": "2.7.6"
  }
 },
 "nbformat": 4,
 "nbformat_minor": 0
}
