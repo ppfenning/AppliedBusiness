{
 "cells": [
  {
   "cell_type": "code",
   "execution_count": 2,
   "metadata": {
    "collapsed": true
   },
   "outputs": [],
   "source": [
    "import pandas as pd"
   ]
  },
  {
   "cell_type": "code",
   "execution_count": 30,
   "outputs": [
    {
     "data": {
      "text/plain": "                    funding_year state form_version window_status     status  \\\napplication_number                                                             \n201001330                   2020    OH     Original     In Window  Certified   \n201001293                   2020    OH     Original     In Window  Certified   \n201000596                   2020    OH     Original     In Window  Certified   \n201001645                   2020    OH     Original     In Window  Certified   \n201000335                   2020    OH     Original     In Window  Certified   \n\n                     category                application_name  \\\napplication_number                                              \n201001330           Category1               Bath Local School   \n201001293           Category1  Federal Hocking Local Sch Dist   \n201000596           Category1    Independence School District   \n201001645           Category1       Berea City Public Schools   \n201000335           Category1                  Metro Catholic   \n\n                                address1       city  zipcode  entity_number  \\\napplication_number                                                            \n201001330                  2650 Bible Rd       Lima    45801         130093   \n201001293           8461 State Route 144    Stewart    45778         130089   \n201000596                  7733 Stone Rd  Cleveland    44131         129504   \n201001645                390 Fair Street      Berea    44017         129405   \n201000335             1910 W 54th Street  Cleveland    44102          47679   \n\n                    fcc_number   applicant_type  enrollment  nslp_count  \\\napplication_number                                                        \n201001330              2918548  School District        1716         759   \n201001293             12041372  School District        1041         746   \n201000596             11015799  School District        1029          90   \n201001645             13390232  School District        6429        2012   \n201000335              4166872  School District         470         470   \n\n                    nslp_percent locale  request_amount  \\\napplication_number                                        \n201001330                   44.0  Urban        15840.00   \n201001293                   72.0  Rural        40643.52   \n201000596                    9.0  Urban        15160.03   \n201001645                   31.0  Urban        21600.00   \n201000335                  100.0  Urban        45000.14   \n\n                            congress_district  \napplication_number                             \n201001330            Congressional District 4  \n201001293           Congressional District 15  \n201000596           Congressional District 14  \n201001645            Congressional District 9  \n201000335           Congressional District 11  ",
      "text/html": "<div>\n<style scoped>\n    .dataframe tbody tr th:only-of-type {\n        vertical-align: middle;\n    }\n\n    .dataframe tbody tr th {\n        vertical-align: top;\n    }\n\n    .dataframe thead th {\n        text-align: right;\n    }\n</style>\n<table border=\"1\" class=\"dataframe\">\n  <thead>\n    <tr style=\"text-align: right;\">\n      <th></th>\n      <th>funding_year</th>\n      <th>state</th>\n      <th>form_version</th>\n      <th>window_status</th>\n      <th>status</th>\n      <th>category</th>\n      <th>application_name</th>\n      <th>address1</th>\n      <th>city</th>\n      <th>zipcode</th>\n      <th>entity_number</th>\n      <th>fcc_number</th>\n      <th>applicant_type</th>\n      <th>enrollment</th>\n      <th>nslp_count</th>\n      <th>nslp_percent</th>\n      <th>locale</th>\n      <th>request_amount</th>\n      <th>congress_district</th>\n    </tr>\n    <tr>\n      <th>application_number</th>\n      <th></th>\n      <th></th>\n      <th></th>\n      <th></th>\n      <th></th>\n      <th></th>\n      <th></th>\n      <th></th>\n      <th></th>\n      <th></th>\n      <th></th>\n      <th></th>\n      <th></th>\n      <th></th>\n      <th></th>\n      <th></th>\n      <th></th>\n      <th></th>\n      <th></th>\n    </tr>\n  </thead>\n  <tbody>\n    <tr>\n      <th>201001330</th>\n      <td>2020</td>\n      <td>OH</td>\n      <td>Original</td>\n      <td>In Window</td>\n      <td>Certified</td>\n      <td>Category1</td>\n      <td>Bath Local School</td>\n      <td>2650 Bible Rd</td>\n      <td>Lima</td>\n      <td>45801</td>\n      <td>130093</td>\n      <td>2918548</td>\n      <td>School District</td>\n      <td>1716</td>\n      <td>759</td>\n      <td>44.0</td>\n      <td>Urban</td>\n      <td>15840.00</td>\n      <td>Congressional District 4</td>\n    </tr>\n    <tr>\n      <th>201001293</th>\n      <td>2020</td>\n      <td>OH</td>\n      <td>Original</td>\n      <td>In Window</td>\n      <td>Certified</td>\n      <td>Category1</td>\n      <td>Federal Hocking Local Sch Dist</td>\n      <td>8461 State Route 144</td>\n      <td>Stewart</td>\n      <td>45778</td>\n      <td>130089</td>\n      <td>12041372</td>\n      <td>School District</td>\n      <td>1041</td>\n      <td>746</td>\n      <td>72.0</td>\n      <td>Rural</td>\n      <td>40643.52</td>\n      <td>Congressional District 15</td>\n    </tr>\n    <tr>\n      <th>201000596</th>\n      <td>2020</td>\n      <td>OH</td>\n      <td>Original</td>\n      <td>In Window</td>\n      <td>Certified</td>\n      <td>Category1</td>\n      <td>Independence School District</td>\n      <td>7733 Stone Rd</td>\n      <td>Cleveland</td>\n      <td>44131</td>\n      <td>129504</td>\n      <td>11015799</td>\n      <td>School District</td>\n      <td>1029</td>\n      <td>90</td>\n      <td>9.0</td>\n      <td>Urban</td>\n      <td>15160.03</td>\n      <td>Congressional District 14</td>\n    </tr>\n    <tr>\n      <th>201001645</th>\n      <td>2020</td>\n      <td>OH</td>\n      <td>Original</td>\n      <td>In Window</td>\n      <td>Certified</td>\n      <td>Category1</td>\n      <td>Berea City Public Schools</td>\n      <td>390 Fair Street</td>\n      <td>Berea</td>\n      <td>44017</td>\n      <td>129405</td>\n      <td>13390232</td>\n      <td>School District</td>\n      <td>6429</td>\n      <td>2012</td>\n      <td>31.0</td>\n      <td>Urban</td>\n      <td>21600.00</td>\n      <td>Congressional District 9</td>\n    </tr>\n    <tr>\n      <th>201000335</th>\n      <td>2020</td>\n      <td>OH</td>\n      <td>Original</td>\n      <td>In Window</td>\n      <td>Certified</td>\n      <td>Category1</td>\n      <td>Metro Catholic</td>\n      <td>1910 W 54th Street</td>\n      <td>Cleveland</td>\n      <td>44102</td>\n      <td>47679</td>\n      <td>4166872</td>\n      <td>School District</td>\n      <td>470</td>\n      <td>470</td>\n      <td>100.0</td>\n      <td>Urban</td>\n      <td>45000.14</td>\n      <td>Congressional District 11</td>\n    </tr>\n  </tbody>\n</table>\n</div>"
     },
     "execution_count": 30,
     "metadata": {},
     "output_type": "execute_result"
    }
   ],
   "source": [
    "df = pd.read_csv('../data/segmentation.csv').set_index('application_number', drop=True)\n",
    "df[['enrollment', 'nslp_count']] = df[['enrollment', 'nslp_count']].astype(int)\n",
    "df['nslp_percent'] = df['nslp_percent'].str[:-1].astype(float)\n",
    "df['request_amount'] = [float(x[1:].replace(',', '')) for x in df['request_amount']]\n",
    "df.head()"
   ],
   "metadata": {
    "collapsed": false
   }
  }
 ],
 "metadata": {
  "kernelspec": {
   "display_name": "Python 3",
   "language": "python",
   "name": "python3"
  },
  "language_info": {
   "codemirror_mode": {
    "name": "ipython",
    "version": 2
   },
   "file_extension": ".py",
   "mimetype": "text/x-python",
   "name": "python",
   "nbconvert_exporter": "python",
   "pygments_lexer": "ipython2",
   "version": "2.7.6"
  }
 },
 "nbformat": 4,
 "nbformat_minor": 0
}
