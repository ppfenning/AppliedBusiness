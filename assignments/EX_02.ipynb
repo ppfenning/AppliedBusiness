{
 "cells": [
  {
   "cell_type": "code",
   "execution_count": 11,
   "metadata": {
    "collapsed": true
   },
   "outputs": [
    {
     "data": {
      "text/plain": "               claims  properties  amount_paid\nuk_post_codes                                 \nHD6 1              19          20        92180\nHD6 2               1           1         5000\nHD6 3               1           1         5000\nHD6 4               5           5        12758\nHX2 6              15          20        95384\nHX2 8               1           2        10000\nHX3 5              13          50       243402\nHX3 6               1           1          891\nHX3 7               2           2         7703\nHX3 9               1           1         5000\nHX4 0               1           9        45000\nHX4 8               3           3        10500\nHX5 0               6           7        35000\nHX5 9               9          14        69932\nHX6 1               4           4        15300\nHX6 2              10          11        38558\nHX6 3              51          52       227748\nHX6 4               2           2         9500\nHX7 5              51          78       363258\nHX7 6              54          66       289082\nHX7 7              10          10        46905\nHX7 8             122         125       528462\nOL14 5             21          21        94102\nOL14 6             29          35       180500\nOL14 7             42          42       193442\nOL14 8              5           6        27098",
      "text/html": "<div>\n<style scoped>\n    .dataframe tbody tr th:only-of-type {\n        vertical-align: middle;\n    }\n\n    .dataframe tbody tr th {\n        vertical-align: top;\n    }\n\n    .dataframe thead th {\n        text-align: right;\n    }\n</style>\n<table border=\"1\" class=\"dataframe\">\n  <thead>\n    <tr style=\"text-align: right;\">\n      <th></th>\n      <th>claims</th>\n      <th>properties</th>\n      <th>amount_paid</th>\n    </tr>\n    <tr>\n      <th>uk_post_codes</th>\n      <th></th>\n      <th></th>\n      <th></th>\n    </tr>\n  </thead>\n  <tbody>\n    <tr>\n      <th>HD6 1</th>\n      <td>19</td>\n      <td>20</td>\n      <td>92180</td>\n    </tr>\n    <tr>\n      <th>HD6 2</th>\n      <td>1</td>\n      <td>1</td>\n      <td>5000</td>\n    </tr>\n    <tr>\n      <th>HD6 3</th>\n      <td>1</td>\n      <td>1</td>\n      <td>5000</td>\n    </tr>\n    <tr>\n      <th>HD6 4</th>\n      <td>5</td>\n      <td>5</td>\n      <td>12758</td>\n    </tr>\n    <tr>\n      <th>HX2 6</th>\n      <td>15</td>\n      <td>20</td>\n      <td>95384</td>\n    </tr>\n    <tr>\n      <th>HX2 8</th>\n      <td>1</td>\n      <td>2</td>\n      <td>10000</td>\n    </tr>\n    <tr>\n      <th>HX3 5</th>\n      <td>13</td>\n      <td>50</td>\n      <td>243402</td>\n    </tr>\n    <tr>\n      <th>HX3 6</th>\n      <td>1</td>\n      <td>1</td>\n      <td>891</td>\n    </tr>\n    <tr>\n      <th>HX3 7</th>\n      <td>2</td>\n      <td>2</td>\n      <td>7703</td>\n    </tr>\n    <tr>\n      <th>HX3 9</th>\n      <td>1</td>\n      <td>1</td>\n      <td>5000</td>\n    </tr>\n    <tr>\n      <th>HX4 0</th>\n      <td>1</td>\n      <td>9</td>\n      <td>45000</td>\n    </tr>\n    <tr>\n      <th>HX4 8</th>\n      <td>3</td>\n      <td>3</td>\n      <td>10500</td>\n    </tr>\n    <tr>\n      <th>HX5 0</th>\n      <td>6</td>\n      <td>7</td>\n      <td>35000</td>\n    </tr>\n    <tr>\n      <th>HX5 9</th>\n      <td>9</td>\n      <td>14</td>\n      <td>69932</td>\n    </tr>\n    <tr>\n      <th>HX6 1</th>\n      <td>4</td>\n      <td>4</td>\n      <td>15300</td>\n    </tr>\n    <tr>\n      <th>HX6 2</th>\n      <td>10</td>\n      <td>11</td>\n      <td>38558</td>\n    </tr>\n    <tr>\n      <th>HX6 3</th>\n      <td>51</td>\n      <td>52</td>\n      <td>227748</td>\n    </tr>\n    <tr>\n      <th>HX6 4</th>\n      <td>2</td>\n      <td>2</td>\n      <td>9500</td>\n    </tr>\n    <tr>\n      <th>HX7 5</th>\n      <td>51</td>\n      <td>78</td>\n      <td>363258</td>\n    </tr>\n    <tr>\n      <th>HX7 6</th>\n      <td>54</td>\n      <td>66</td>\n      <td>289082</td>\n    </tr>\n    <tr>\n      <th>HX7 7</th>\n      <td>10</td>\n      <td>10</td>\n      <td>46905</td>\n    </tr>\n    <tr>\n      <th>HX7 8</th>\n      <td>122</td>\n      <td>125</td>\n      <td>528462</td>\n    </tr>\n    <tr>\n      <th>OL14 5</th>\n      <td>21</td>\n      <td>21</td>\n      <td>94102</td>\n    </tr>\n    <tr>\n      <th>OL14 6</th>\n      <td>29</td>\n      <td>35</td>\n      <td>180500</td>\n    </tr>\n    <tr>\n      <th>OL14 7</th>\n      <td>42</td>\n      <td>42</td>\n      <td>193442</td>\n    </tr>\n    <tr>\n      <th>OL14 8</th>\n      <td>5</td>\n      <td>6</td>\n      <td>27098</td>\n    </tr>\n  </tbody>\n</table>\n</div>"
     },
     "execution_count": 11,
     "metadata": {},
     "output_type": "execute_result"
    }
   ],
   "source": [
    "import pandas as pd\n",
    "import seaborn as sns\n",
    "import numpy as np\n",
    "import matplotlib.pyplot as plt\n",
    "import scipy.stats as stats\n",
    "\n",
    "df = pd.read_csv('../data/flood.csv').set_index('uk_post_codes', drop=True)\n",
    "df"
   ]
  },
  {
   "cell_type": "code",
   "execution_count": 12,
   "outputs": [],
   "source": [
    "corr = df.corr()\n",
    "mask = np.triu(np.ones_like(corr, dtype=bool))"
   ],
   "metadata": {
    "collapsed": false
   }
  }
 ],
 "metadata": {
  "kernelspec": {
   "display_name": "Python 3",
   "language": "python",
   "name": "python3"
  },
  "language_info": {
   "codemirror_mode": {
    "name": "ipython",
    "version": 2
   },
   "file_extension": ".py",
   "mimetype": "text/x-python",
   "name": "python",
   "nbconvert_exporter": "python",
   "pygments_lexer": "ipython2",
   "version": "2.7.6"
  }
 },
 "nbformat": 4,
 "nbformat_minor": 0
}
