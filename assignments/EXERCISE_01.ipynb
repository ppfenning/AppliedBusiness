{
 "cells": [
  {
   "cell_type": "code",
   "execution_count": 2,
   "metadata": {
    "collapsed": true
   },
   "outputs": [],
   "source": [
    "# preamble imports\n",
    "import pandas as pd\n",
    "import numpy as np\n",
    "from matplotlib import pyplot as plt\n",
    "import statistics"
   ]
  },
  {
   "cell_type": "markdown",
   "source": [
    "# Assignment 1 - Descriptive Statistics\n",
    "\n",
    "#### Patrick Pfenning\n",
    "#### 01/11/23\n",
    "\n",
    "Basic Python\n",
    "---"
   ],
   "metadata": {
    "collapsed": false
   }
  },
  {
   "cell_type": "code",
   "execution_count": 3,
   "outputs": [
    {
     "data": {
      "text/plain": "3"
     },
     "execution_count": 3,
     "metadata": {},
     "output_type": "execute_result"
    }
   ],
   "source": [
    "\"\"\"Using the statistics module\"\"\"\n",
    "# Set data\n",
    "data = [1, 2, 2, 3, 3, 3, 4, 4, 4, 4]\n",
    "# Find mean\n",
    "statistics.mean(data)"
   ],
   "metadata": {
    "collapsed": false
   }
  },
  {
   "cell_type": "code",
   "execution_count": 4,
   "outputs": [
    {
     "data": {
      "text/plain": "3.0"
     },
     "execution_count": 4,
     "metadata": {},
     "output_type": "execute_result"
    }
   ],
   "source": [
    "# Find median\n",
    "statistics.median(data)"
   ],
   "metadata": {
    "collapsed": false
   }
  },
  {
   "cell_type": "code",
   "execution_count": 5,
   "outputs": [
    {
     "data": {
      "text/plain": "4"
     },
     "execution_count": 5,
     "metadata": {},
     "output_type": "execute_result"
    }
   ],
   "source": [
    "# Find mode\n",
    "statistics.mode(data)"
   ],
   "metadata": {
    "collapsed": false
   }
  },
  {
   "cell_type": "code",
   "execution_count": 6,
   "outputs": [
    {
     "data": {
      "text/plain": "DescribeResults(mean=3, median=3.0, mode=4, variance=1.1111111111111112, stdev=1.0540925533894598, minmax=(1, 4), sum=30)"
     },
     "execution_count": 6,
     "metadata": {},
     "output_type": "execute_result"
    }
   ],
   "source": [
    "# Summarize data\n",
    "from dataclasses import dataclass, field\n",
    "\n",
    "\"\"\"Python 3.10 has no describe function, so I made my own class to do the same.\"\"\"\n",
    "\n",
    "@dataclass\n",
    "class DescribeResults:\n",
    "    \"\"\"Class for describing data\"\"\"\n",
    "    data: list = field(repr=False, default_factory=list)\n",
    "    # initialize calculations\n",
    "    mean: float = field(init=False)\n",
    "    median: float = field(init=False)\n",
    "    mode: float = field(init=False)\n",
    "    variance: float = field(init=False)\n",
    "    stdev: float = field(init=False)\n",
    "    minmax: tuple = field(init=False)\n",
    "    sum: float = field(init=False)\n",
    "\n",
    "    def __post_init__(self):\n",
    "        \"\"\"Set Calculations\"\"\"\n",
    "        self.mean = statistics.mean(self.data)\n",
    "        self.median = statistics.median(self.data)\n",
    "        self.mode = statistics.mode(self.data)\n",
    "        self.variance = statistics.variance(self.data)\n",
    "        self.stdev = statistics.stdev(self.data)\n",
    "        self.minmax = (min(data), max(data))\n",
    "        self.sum = sum(data)\n",
    "\n",
    "DescribeResults(data)"
   ],
   "metadata": {
    "collapsed": false
   }
  },
  {
   "cell_type": "code",
   "execution_count": 7,
   "outputs": [
    {
     "data": {
      "text/plain": "3.0"
     },
     "execution_count": 7,
     "metadata": {},
     "output_type": "execute_result"
    }
   ],
   "source": [
    "\"\"\"Using the numpy module\"\"\"\n",
    "# mean\n",
    "np.mean(data)"
   ],
   "metadata": {
    "collapsed": false
   }
  },
  {
   "cell_type": "code",
   "execution_count": 8,
   "outputs": [
    {
     "data": {
      "text/plain": "3.0"
     },
     "execution_count": 8,
     "metadata": {},
     "output_type": "execute_result"
    }
   ],
   "source": [
    "# median\n",
    "np.median(data)"
   ],
   "metadata": {
    "collapsed": false
   }
  },
  {
   "cell_type": "code",
   "execution_count": 9,
   "outputs": [
    {
     "data": {
      "text/plain": "1.0"
     },
     "execution_count": 9,
     "metadata": {},
     "output_type": "execute_result"
    }
   ],
   "source": [
    "# std. deviation\n",
    "np.std(data)"
   ],
   "metadata": {
    "collapsed": false
   }
  },
  {
   "cell_type": "markdown",
   "source": [
    "Data Preparation\n",
    "---\n",
    "\n",
    "Before telling our story, we must first clean our data."
   ],
   "metadata": {
    "collapsed": false
   }
  },
  {
   "cell_type": "code",
   "execution_count": 10,
   "outputs": [
    {
     "data": {
      "text/plain": "unique_id               593      617      782      990     822\nclass                  1.00     1.00     1.00     1.00    1.00\nalcohol_percentage    14.23    13.20    13.16    14.37   13.24\nmalic_acid             1.71     1.78     2.36     1.95    2.59\nash                    2.43     2.14     2.67     2.50    2.87\nalcalinity            15.60    11.20    18.60    16.80   21.00\nmagnesium            127.00   100.00   101.00   113.00  118.00\nphenols                2.80     2.65     2.80     3.85    2.80\nflavanoids             3.06     2.76     3.24     3.49    2.69\nnonflavanoids          0.28     0.26     0.30     0.24    0.39\nproanthocyanins        2.29     1.28     2.81     2.18    1.82\ncolor                  5.64     4.38     5.68     7.80    4.32\nhue                    1.04     1.05     1.03     0.86    1.04\nprice_usd           1065.00  1050.00  1185.00  1480.00  735.00",
      "text/html": "<div>\n<style scoped>\n    .dataframe tbody tr th:only-of-type {\n        vertical-align: middle;\n    }\n\n    .dataframe tbody tr th {\n        vertical-align: top;\n    }\n\n    .dataframe thead th {\n        text-align: right;\n    }\n</style>\n<table border=\"1\" class=\"dataframe\">\n  <thead>\n    <tr style=\"text-align: right;\">\n      <th>unique_id</th>\n      <th>593</th>\n      <th>617</th>\n      <th>782</th>\n      <th>990</th>\n      <th>822</th>\n    </tr>\n  </thead>\n  <tbody>\n    <tr>\n      <th>class</th>\n      <td>1.00</td>\n      <td>1.00</td>\n      <td>1.00</td>\n      <td>1.00</td>\n      <td>1.00</td>\n    </tr>\n    <tr>\n      <th>alcohol_percentage</th>\n      <td>14.23</td>\n      <td>13.20</td>\n      <td>13.16</td>\n      <td>14.37</td>\n      <td>13.24</td>\n    </tr>\n    <tr>\n      <th>malic_acid</th>\n      <td>1.71</td>\n      <td>1.78</td>\n      <td>2.36</td>\n      <td>1.95</td>\n      <td>2.59</td>\n    </tr>\n    <tr>\n      <th>ash</th>\n      <td>2.43</td>\n      <td>2.14</td>\n      <td>2.67</td>\n      <td>2.50</td>\n      <td>2.87</td>\n    </tr>\n    <tr>\n      <th>alcalinity</th>\n      <td>15.60</td>\n      <td>11.20</td>\n      <td>18.60</td>\n      <td>16.80</td>\n      <td>21.00</td>\n    </tr>\n    <tr>\n      <th>magnesium</th>\n      <td>127.00</td>\n      <td>100.00</td>\n      <td>101.00</td>\n      <td>113.00</td>\n      <td>118.00</td>\n    </tr>\n    <tr>\n      <th>phenols</th>\n      <td>2.80</td>\n      <td>2.65</td>\n      <td>2.80</td>\n      <td>3.85</td>\n      <td>2.80</td>\n    </tr>\n    <tr>\n      <th>flavanoids</th>\n      <td>3.06</td>\n      <td>2.76</td>\n      <td>3.24</td>\n      <td>3.49</td>\n      <td>2.69</td>\n    </tr>\n    <tr>\n      <th>nonflavanoids</th>\n      <td>0.28</td>\n      <td>0.26</td>\n      <td>0.30</td>\n      <td>0.24</td>\n      <td>0.39</td>\n    </tr>\n    <tr>\n      <th>proanthocyanins</th>\n      <td>2.29</td>\n      <td>1.28</td>\n      <td>2.81</td>\n      <td>2.18</td>\n      <td>1.82</td>\n    </tr>\n    <tr>\n      <th>color</th>\n      <td>5.64</td>\n      <td>4.38</td>\n      <td>5.68</td>\n      <td>7.80</td>\n      <td>4.32</td>\n    </tr>\n    <tr>\n      <th>hue</th>\n      <td>1.04</td>\n      <td>1.05</td>\n      <td>1.03</td>\n      <td>0.86</td>\n      <td>1.04</td>\n    </tr>\n    <tr>\n      <th>price_usd</th>\n      <td>1065.00</td>\n      <td>1050.00</td>\n      <td>1185.00</td>\n      <td>1480.00</td>\n      <td>735.00</td>\n    </tr>\n  </tbody>\n</table>\n</div>"
     },
     "execution_count": 10,
     "metadata": {},
     "output_type": "execute_result"
    }
   ],
   "source": [
    "# get data\n",
    "df = pd.read_csv('../data/wine.csv').set_index('unique_id', drop=True)\n",
    "# transpose for better visibility\n",
    "df.T.iloc[:, :5]"
   ],
   "metadata": {
    "collapsed": false
   }
  },
  {
   "cell_type": "code",
   "execution_count": 11,
   "outputs": [
    {
     "data": {
      "text/plain": "unique_id                   593          617          782          990  \\\nclass                  1.000000     1.000000     1.000000     1.000000   \nalcohol_percentage     1.514341     0.245597     0.196325     1.686791   \nmalic_acid            -0.560668    -0.498009     0.021172    -0.345835   \nash                    0.231400    -0.825667     1.106214     0.486554   \nalcalinity            -1.166303    -2.483841    -0.267982    -0.806975   \nmagnesium              1.908522     0.018094     0.088110     0.928300   \nphenols                0.806722     0.567048     0.806722     2.484437   \nflavanoids             1.031908     0.731565     1.212114     1.462399   \nnonflavanoids         -0.657708    -0.818411    -0.497005    -0.979113   \nproanthocyanins        1.221438    -0.543189     2.129959     1.029251   \ncolor                  0.251009    -0.292496     0.268263     1.182732   \nhue                    0.361158     0.404908     0.317409    -0.426341   \nprice_usd           1065.000000  1050.000000  1185.000000  1480.000000   \n\nunique_id                  822  \nclass                 1.000000  \nalcohol_percentage    0.294868  \nmalic_acid            0.227053  \nash                   1.835226  \nalcalinity            0.450674  \nmagnesium             1.278379  \nphenols               0.806722  \nflavanoids            0.661485  \nnonflavanoids         0.226158  \nproanthocyanins       0.400275  \ncolor                -0.318377  \nhue                   0.361158  \nprice_usd           735.000000  ",
      "text/html": "<div>\n<style scoped>\n    .dataframe tbody tr th:only-of-type {\n        vertical-align: middle;\n    }\n\n    .dataframe tbody tr th {\n        vertical-align: top;\n    }\n\n    .dataframe thead th {\n        text-align: right;\n    }\n</style>\n<table border=\"1\" class=\"dataframe\">\n  <thead>\n    <tr style=\"text-align: right;\">\n      <th>unique_id</th>\n      <th>593</th>\n      <th>617</th>\n      <th>782</th>\n      <th>990</th>\n      <th>822</th>\n    </tr>\n  </thead>\n  <tbody>\n    <tr>\n      <th>class</th>\n      <td>1.000000</td>\n      <td>1.000000</td>\n      <td>1.000000</td>\n      <td>1.000000</td>\n      <td>1.000000</td>\n    </tr>\n    <tr>\n      <th>alcohol_percentage</th>\n      <td>1.514341</td>\n      <td>0.245597</td>\n      <td>0.196325</td>\n      <td>1.686791</td>\n      <td>0.294868</td>\n    </tr>\n    <tr>\n      <th>malic_acid</th>\n      <td>-0.560668</td>\n      <td>-0.498009</td>\n      <td>0.021172</td>\n      <td>-0.345835</td>\n      <td>0.227053</td>\n    </tr>\n    <tr>\n      <th>ash</th>\n      <td>0.231400</td>\n      <td>-0.825667</td>\n      <td>1.106214</td>\n      <td>0.486554</td>\n      <td>1.835226</td>\n    </tr>\n    <tr>\n      <th>alcalinity</th>\n      <td>-1.166303</td>\n      <td>-2.483841</td>\n      <td>-0.267982</td>\n      <td>-0.806975</td>\n      <td>0.450674</td>\n    </tr>\n    <tr>\n      <th>magnesium</th>\n      <td>1.908522</td>\n      <td>0.018094</td>\n      <td>0.088110</td>\n      <td>0.928300</td>\n      <td>1.278379</td>\n    </tr>\n    <tr>\n      <th>phenols</th>\n      <td>0.806722</td>\n      <td>0.567048</td>\n      <td>0.806722</td>\n      <td>2.484437</td>\n      <td>0.806722</td>\n    </tr>\n    <tr>\n      <th>flavanoids</th>\n      <td>1.031908</td>\n      <td>0.731565</td>\n      <td>1.212114</td>\n      <td>1.462399</td>\n      <td>0.661485</td>\n    </tr>\n    <tr>\n      <th>nonflavanoids</th>\n      <td>-0.657708</td>\n      <td>-0.818411</td>\n      <td>-0.497005</td>\n      <td>-0.979113</td>\n      <td>0.226158</td>\n    </tr>\n    <tr>\n      <th>proanthocyanins</th>\n      <td>1.221438</td>\n      <td>-0.543189</td>\n      <td>2.129959</td>\n      <td>1.029251</td>\n      <td>0.400275</td>\n    </tr>\n    <tr>\n      <th>color</th>\n      <td>0.251009</td>\n      <td>-0.292496</td>\n      <td>0.268263</td>\n      <td>1.182732</td>\n      <td>-0.318377</td>\n    </tr>\n    <tr>\n      <th>hue</th>\n      <td>0.361158</td>\n      <td>0.404908</td>\n      <td>0.317409</td>\n      <td>-0.426341</td>\n      <td>0.361158</td>\n    </tr>\n    <tr>\n      <th>price_usd</th>\n      <td>1065.000000</td>\n      <td>1050.000000</td>\n      <td>1185.000000</td>\n      <td>1480.000000</td>\n      <td>735.000000</td>\n    </tr>\n  </tbody>\n</table>\n</div>"
     },
     "execution_count": 11,
     "metadata": {},
     "output_type": "execute_result"
    }
   ],
   "source": [
    "# standardization (maps quantitative values to a bell curve with mean 0)\n",
    "df_norm = df.iloc[:, 1:-1].copy()\n",
    "df_norm = (df_norm-df_norm.mean())/df_norm.std()\n",
    "df_norm[['class', 'price_usd']] = df[['class', 'price_usd']]\n",
    "df_norm = df_norm[df.columns]\n",
    "df_norm.T.iloc[:, :5]"
   ],
   "metadata": {
    "collapsed": false
   }
  },
  {
   "cell_type": "code",
   "execution_count": 12,
   "outputs": [
    {
     "name": "stdout",
     "output_type": "stream",
     "text": [
      "       alcohol_percentage  malic_acid        ash  alcalinity   magnesium  \\\n",
      "count           59.000000   59.000000  59.000000   59.000000   59.000000   \n",
      "mean            13.744746    2.010678   2.455593   17.037288  106.338983   \n",
      "std              0.462125    0.688549   0.227166    2.546322   10.498949   \n",
      "min             12.850000    1.350000   2.040000   11.200000   89.000000   \n",
      "25%             13.400000    1.665000   2.295000   16.000000   98.000000   \n",
      "50%             13.750000    1.770000   2.440000   16.800000  104.000000   \n",
      "75%             14.100000    1.935000   2.615000   18.700000  114.000000   \n",
      "max             14.830000    4.040000   3.220000   25.000000  132.000000   \n",
      "\n",
      "         phenols  flavanoids  nonflavanoids  proanthocyanins      color  \\\n",
      "count  59.000000   59.000000      59.000000        59.000000  59.000000   \n",
      "mean    2.840169    2.982373       0.290000         1.899322   5.528305   \n",
      "std     0.338961    0.397494       0.070049         0.412109   1.238573   \n",
      "min     2.200000    2.190000       0.170000         1.250000   3.520000   \n",
      "25%     2.600000    2.680000       0.255000         1.640000   4.550000   \n",
      "50%     2.800000    2.980000       0.290000         1.870000   5.400000   \n",
      "75%     3.000000    3.245000       0.320000         2.090000   6.225000   \n",
      "max     3.880000    3.930000       0.500000         2.960000   8.900000   \n",
      "\n",
      "             hue    price_usd  \n",
      "count  59.000000    59.000000  \n",
      "mean    1.062034  1115.711864  \n",
      "std     0.116483   221.520767  \n",
      "min     0.820000   680.000000  \n",
      "25%     0.995000   987.500000  \n",
      "50%     1.070000  1095.000000  \n",
      "75%     1.130000  1280.000000  \n",
      "max     1.280000  1680.000000  \n",
      "       alcohol_percentage  malic_acid        ash  alcalinity   magnesium  \\\n",
      "count           71.000000   71.000000  71.000000   71.000000   71.000000   \n",
      "mean            12.278732    1.932676   2.244789   20.238028   94.549296   \n",
      "std              0.537964    1.015569   0.315467    3.349770   16.753497   \n",
      "min             11.030000    0.740000   1.360000   10.600000   70.000000   \n",
      "25%             11.915000    1.270000   2.000000   18.000000   85.500000   \n",
      "50%             12.290000    1.610000   2.240000   20.000000   88.000000   \n",
      "75%             12.515000    2.145000   2.420000   22.000000   99.500000   \n",
      "max             13.860000    5.800000   3.230000   30.000000  162.000000   \n",
      "\n",
      "         phenols  flavanoids  nonflavanoids  proanthocyanins      color  \\\n",
      "count  71.000000   71.000000      71.000000        71.000000  71.000000   \n",
      "mean    2.258873    2.080845       0.363662         1.630282   3.086620   \n",
      "std     0.545361    0.705701       0.123961         0.602068   0.924929   \n",
      "min     1.100000    0.570000       0.130000         0.410000   1.280000   \n",
      "25%     1.895000    1.605000       0.270000         1.350000   2.535000   \n",
      "50%     2.200000    2.030000       0.370000         1.610000   2.900000   \n",
      "75%     2.560000    2.475000       0.430000         1.885000   3.400000   \n",
      "max     3.520000    5.080000       0.660000         3.580000   6.000000   \n",
      "\n",
      "             hue   price_usd  \n",
      "count  71.000000   71.000000  \n",
      "mean    1.056282  519.507042  \n",
      "std     0.202937  157.211220  \n",
      "min     0.690000  278.000000  \n",
      "25%     0.925000  406.500000  \n",
      "50%     1.040000  495.000000  \n",
      "75%     1.205000  625.000000  \n",
      "max     1.710000  985.000000  \n",
      "       alcohol_percentage  malic_acid        ash  alcalinity   magnesium  \\\n",
      "count           48.000000   48.000000  48.000000   48.000000   48.000000   \n",
      "mean            13.153750    3.333750   2.437083   21.416667   99.312500   \n",
      "std              0.530241    1.087906   0.184690    2.258161   10.890473   \n",
      "min             12.200000    1.240000   2.100000   17.500000   80.000000   \n",
      "25%             12.805000    2.587500   2.300000   20.000000   89.750000   \n",
      "50%             13.165000    3.265000   2.380000   21.000000   97.000000   \n",
      "75%             13.505000    3.957500   2.602500   23.000000  106.000000   \n",
      "max             14.340000    5.650000   2.860000   27.000000  123.000000   \n",
      "\n",
      "         phenols  flavanoids  nonflavanoids  proanthocyanins      color  \\\n",
      "count  48.000000   48.000000       48.00000        48.000000  48.000000   \n",
      "mean    1.678750    0.781458        0.44750         1.153542   7.396250   \n",
      "std     0.356971    0.293504        0.12414         0.408836   2.310942   \n",
      "min     0.980000    0.340000        0.17000         0.550000   3.850000   \n",
      "25%     1.407500    0.580000        0.39750         0.855000   5.437500   \n",
      "50%     1.635000    0.685000        0.47000         1.105000   7.550000   \n",
      "75%     1.807500    0.920000        0.53000         1.350000   9.225000   \n",
      "max     2.800000    1.570000        0.63000         2.700000  13.000000   \n",
      "\n",
      "             hue   price_usd  \n",
      "count  48.000000   48.000000  \n",
      "mean    0.682708  629.895833  \n",
      "std     0.114441  115.097043  \n",
      "min     0.480000  415.000000  \n",
      "25%     0.587500  545.000000  \n",
      "50%     0.665000  627.500000  \n",
      "75%     0.752500  695.000000  \n",
      "max     0.960000  880.000000  \n"
     ]
    }
   ],
   "source": [
    "for _, grp in df.groupby('class'):\n",
    "    grp = grp.iloc[:, 1:]\n",
    "    print(grp.describe())"
   ],
   "metadata": {
    "collapsed": false
   }
  }
 ],
 "metadata": {
  "kernelspec": {
   "display_name": "Python 3",
   "language": "python",
   "name": "python3"
  },
  "language_info": {
   "codemirror_mode": {
    "name": "ipython",
    "version": 2
   },
   "file_extension": ".py",
   "mimetype": "text/x-python",
   "name": "python",
   "nbconvert_exporter": "python",
   "pygments_lexer": "ipython2",
   "version": "2.7.6"
  }
 },
 "nbformat": 4,
 "nbformat_minor": 0
}
